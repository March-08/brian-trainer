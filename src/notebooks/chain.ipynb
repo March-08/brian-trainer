{
 "cells": [
  {
   "cell_type": "code",
   "execution_count": null,
   "metadata": {},
   "outputs": [],
   "source": [
    "!pip install huggingface_hub > /dev/null"
   ]
  },
  {
   "cell_type": "code",
   "execution_count": 1,
   "metadata": {},
   "outputs": [],
   "source": [
    "from langchain.chat_models import ChatOpenAI\n",
    "from kor.extraction import create_extraction_chain\n",
    "from kor.nodes import Object, Text\n",
    "from kor import create_extraction_chain\n",
    "from langchain.llms import OpenAI"
   ]
  },
  {
   "cell_type": "code",
   "execution_count": 137,
   "metadata": {},
   "outputs": [],
   "source": [
    "import os\n",
    "\n",
    "os.environ[\"HUGGINGFACEHUB_API_TOKEN\"] = \"mettete le vostre api stronzi scrocconi\"\n",
    "os.environ[\"OPENAI_API_KEY\"] = \"la mamma di morelli ha i baffi\""
   ]
  },
  {
   "cell_type": "code",
   "execution_count": 138,

   "metadata": {},
   "outputs": [
    {
     "name": "stderr",
     "output_type": "stream",
     "text": [
      "/Users/prollo/miniforge3/lib/python3.10/site-packages/tqdm/auto.py:22: TqdmWarning: IProgress not found. Please update jupyter and ipywidgets. See https://ipywidgets.readthedocs.io/en/stable/user_install.html\n",
      "  from .autonotebook import tqdm as notebook_tqdm\n"
     ]
    }
   ],
   "source": [
    "##llm = OpenAI(temperature=0.9)\n",
    "from langchain import HuggingFaceHub\n",
    "\n",
    "repo_id = \"google/flan-t5-small\" # See https://huggingface.co/models?pipeline_tag=text-generation&sort=downloads for some other options\n",
    "#repo_id = \"tiiuae/falcon-7b\"\n",
    "llm = HuggingFaceHub(repo_id=repo_id, model_kwargs={\"temperature\":0.2, \"max_length\":64})\n",
    "\n",
    "llm = OpenAI(temperature=0.2)"
   ]
  },
  {
   "cell_type": "code",
   "execution_count": 139,
   "metadata": {},
   "outputs": [
    {
     "name": "stdout",
     "output_type": "stream",
     "text": [
      "The following are exerpts from conversations with an AI\n",
      "assistant. The assistant is a web3 developer experts that extract parameters from text. Here are some\n",
      "examples: \n",
      "\n",
      "\n",
      "\n",
      "User: I want to know the wstETH balance of 0xFe8e15ae884524eFfc2fe91dF6f5BA40D8533A92 on Gnosis\n",
      "AI: action:balance,token:wstETH,address:0xFe8e15ae884524eFfc2fe91dF6f5BA40D8533A92,chain:Gnosis,amount:100\n",
      "\n",
      "\n",
      "\n",
      "User: I want to swap 100 XDAI for DAI on Gnosis\n",
      "AI: action:swap,token1:XDAI,token2:DAI,chain:Gnosis,amount:100\n",
      "\n",
      "\n",
      "\n",
      "User: I want to send or transfer 100 WETH to 0xFe8e15ae884524eFfc2fe91dF6f5BA40D8533A92 on Gnosis\n",
      "AI: action:transfer,token:WETH,chain:Gnosis,address:0xFe8e15ae884524eFfc2fe91dF6f5BA40D8533A92,amount:100\n",
      "\n",
      "\n",
      "\n",
      "User: I want to swap 100 DAI to USDC on Chiado\n",
      "AI: action:swap,token1:DAI,token2:USDC,chain:Chiado,amount:100\n",
      "\n",
      "\n",
      "\n",
      "User: I want to swap 150 BTC to USDC on Gnosis\n",
      "AI: \n"
     ]
    }
   ],
   "source": [
    "from langchain.prompts.few_shot import FewShotPromptTemplate\n",
    "from langchain.prompts.prompt import PromptTemplate\n",
    "\n",
    "examples = [\n",
    "  {\n",
    "    \"query\": \"I want to know the wstETH balance of 0xFe8e15ae884524eFfc2fe91dF6f5BA40D8533A92 on Gnosis\",\n",
    "    \"answer\": \"action:balance,token:wstETH,address:0xFe8e15ae884524eFfc2fe91dF6f5BA40D8533A92,chain:Gnosis,amount:100\"\n",
    "  },\n",
    "  {\n",
    "    \"query\":\"I want to swap 100 XDAI for DAI on Gnosis\",\n",
    "    \"answer\":\"action:swap,token1:XDAI,token2:DAI,chain:Gnosis,amount:100\"\n",
    "  },\n",
    "  {\n",
    "    \"query\": \"I want to send or transfer 100 WETH to 0xFe8e15ae884524eFfc2fe91dF6f5BA40D8533A92 on Gnosis\",\n",
    "    \"answer\":\"action:transfer,token:WETH,chain:Gnosis,address:0xFe8e15ae884524eFfc2fe91dF6f5BA40D8533A92,amount:100\"\n",
    "  },\n",
    "  {\n",
    "    \"query\": \"I want to swap 100 DAI to USDC on Chiado\",\n",
    "    \"answer\":\"action:swap,token1:DAI,token2:USDC,chain:Chiado,amount:100\"\n",
    "  },\n",
    "  \n",
    "]\n",
    "\n",
    "\n",
    "example_template = \"\"\"\n",
    "User: {query}\n",
    "AI: {answer}\n",
    "\"\"\"\n",
    "\n",
    "\n",
    "# create a prompt example from above template\n",
    "example_prompt = PromptTemplate(\n",
    "    input_variables=[\"query\", \"answer\"],\n",
    "    template=example_template\n",
    ")\n",
    "\n",
    "# now break our previous prompt into a prefix and suffix\n",
    "# the prefix is our instructions\n",
    "prefix = \"\"\"The following are exerpts from conversations with an AI\n",
    "assistant. The assistant is a web3 developer experts that extract parameters from text. Here are some\n",
    "examples: \n",
    "\"\"\"\n",
    "\n",
    "# and the suffix our user input and output indicator\n",
    "suffix = \"\"\"\n",
    "User: {query}\n",
    "AI: \"\"\"\n",
    "\n",
    "# now create the few shot prompt template\n",
    "few_shot_prompt_template = FewShotPromptTemplate(\n",
    "    examples=examples,\n",
    "    example_prompt=example_prompt,\n",
    "    prefix=prefix,\n",
    "    suffix=suffix,\n",
    "    input_variables=[\"query\"],\n",
    "    example_separator=\"\\n\\n\"\n",
    ")\n",
    "\n",
    "query = \"I want to swap 150 BTC to USDC on Gnosis\"\n",
    "print(few_shot_prompt_template.format(query=query))"
   ]
  },
  {
   "cell_type": "code",
   "execution_count": 140,
   "metadata": {},
   "outputs": [
    {
     "data": {
      "text/plain": [
       "' action:swap,token1:BTC,token2:USDC,chain:Gnosis,amount:150'"
      ]
     },
     "execution_count": 140,
     "metadata": {},
     "output_type": "execute_result"
    }
   ],
   "source": [
    "llm(few_shot_prompt_template.format(query=query))"
   ]
  }
 ],
 "metadata": {
  "kernelspec": {
   "display_name": "Python 3",
   "language": "python",
   "name": "python3"
  },
  "language_info": {
   "codemirror_mode": {
    "name": "ipython",
    "version": 3
   },
   "file_extension": ".py",
   "mimetype": "text/x-python",
   "name": "python",
   "nbconvert_exporter": "python",
   "pygments_lexer": "ipython3",
   "version": "3.10.4"
  },
  "orig_nbformat": 4
 },
 "nbformat": 4,
 "nbformat_minor": 2
}
